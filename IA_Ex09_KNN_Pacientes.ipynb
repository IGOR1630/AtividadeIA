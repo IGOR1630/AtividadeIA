{
  "cells": [
    {
      "cell_type": "markdown",
      "metadata": {
        "id": "view-in-github",
        "colab_type": "text"
      },
      "source": [
        "<a href=\"https://colab.research.google.com/github/IGOR1630/AtividadeIA/blob/main/IA_Ex09_KNN_Pacientes.ipynb\" target=\"_parent\"><img src=\"https://colab.research.google.com/assets/colab-badge.svg\" alt=\"Open In Colab\"/></a>"
      ]
    },
    {
      "cell_type": "markdown",
      "metadata": {
        "id": "m5tVff4dgKyg"
      },
      "source": [
        "# Treinamento"
      ]
    },
    {
      "cell_type": "markdown",
      "metadata": {
        "id": "P8xB4G8ogKym"
      },
      "source": [
        "### Carregando Arquivo de Treinamento (.csv)"
      ]
    },
    {
      "cell_type": "code",
      "execution_count": 81,
      "metadata": {
        "colab": {
          "base_uri": "https://localhost:8080/"
        },
        "id": "a5MRh5ZfgKyn",
        "outputId": "769f5f16-1613-471a-c98c-227d0bb509ea"
      },
      "outputs": [
        {
          "output_type": "stream",
          "name": "stdout",
          "text": [
            "---------------------------------\n",
            "Dados dos Pacientes - TREINAMENTO\n",
            "---------------------------------\n",
            "[[  6.    148.     72.    ...   0.627  50.      1.   ]\n",
            " [  1.     85.     66.    ...   0.351  31.      0.   ]\n",
            " [  8.    183.     64.    ...   0.672  32.      1.   ]\n",
            " ...\n",
            " [  5.    121.     72.    ...   0.245  30.      0.   ]\n",
            " [  1.    126.     60.    ...   0.349  47.      1.   ]\n",
            " [  1.     93.     70.    ...   0.315  23.      0.   ]]\n",
            "---------------------------------\n",
            "Atributos de Entrada\n",
            "---------------------------------\n",
            "[[  6.    148.     72.    ...  33.6     0.627  50.   ]\n",
            " [  1.     85.     66.    ...  26.6     0.351  31.   ]\n",
            " [  8.    183.     64.    ...  23.3     0.672  32.   ]\n",
            " ...\n",
            " [  5.    121.     72.    ...  26.2     0.245  30.   ]\n",
            " [  1.    126.     60.    ...  30.1     0.349  47.   ]\n",
            " [  1.     93.     70.    ...  30.4     0.315  23.   ]]\n",
            "----------------------------\n",
            "Classificação Supervisionada\n",
            "----------------------------\n",
            "[1. 0. 1. 0. 1. 0. 1. 0. 1. 1. 0. 1. 0. 1. 1. 1. 1. 1. 0. 1. 0. 0. 1. 1.\n",
            " 1. 1. 1. 0. 0. 0. 0. 1. 0. 0. 0. 0. 0. 1. 1. 1. 0. 0. 0. 1. 0. 1. 0. 0.\n",
            " 1. 0. 0. 0. 0. 1. 0. 0. 1. 0. 0. 0. 0. 1. 0. 0. 1. 0. 1. 0. 0. 0. 1. 0.\n",
            " 1. 0. 0. 0. 0. 0. 1. 0. 0. 0. 0. 0. 1. 0. 0. 0. 1. 0. 0. 0. 0. 1. 0. 0.\n",
            " 0. 0. 0. 1. 1. 0. 0. 0. 0. 0. 0. 0. 0. 1. 1. 1. 0. 0. 1. 1. 1. 0. 0. 0.\n",
            " 1. 0. 0. 0. 1. 1. 0. 0. 1. 1. 1. 1. 1. 0. 0. 0. 0. 0. 0. 0. 0. 0. 0. 1.\n",
            " 0. 0. 0. 0. 0. 0. 0. 0. 1. 0. 1. 1. 0. 0. 0. 1. 0. 0. 0. 0. 1. 1. 0. 0.\n",
            " 0. 0. 1. 1. 0. 0. 0. 1. 0. 1. 0. 1. 0. 0. 0. 0. 0. 1. 1. 1. 1. 1. 0. 0.\n",
            " 1. 1. 0. 1. 0. 1. 1. 1. 0. 0. 0. 0. 0. 0. 1. 1. 0. 1. 0. 0. 0. 1. 1. 1.\n",
            " 1. 0. 1. 1. 1. 1. 0. 0. 0. 0. 0. 1. 0. 0. 1. 1. 0. 0. 0. 1. 1. 1. 1. 0.\n",
            " 0. 0. 1. 1. 0. 1. 0. 0. 0. 0. 0. 0. 0. 0. 1. 1. 0. 0. 0. 1. 0. 1. 0. 0.\n",
            " 1. 0. 1. 0. 0. 1. 1. 0. 0. 0. 0. 0. 1. 0. 0. 0. 1. 0. 0. 1. 1. 0. 0. 1.\n",
            " 0. 0. 0. 1. 1. 1. 0. 0. 1. 0. 1. 0. 1. 1. 0. 1. 0. 0. 1. 0. 1. 1. 0. 0.\n",
            " 1. 0. 1. 0. 0. 1. 0. 1. 0. 1. 1. 1. 0. 0. 1. 0. 1. 0. 0. 0. 1. 0. 0. 0.\n",
            " 0. 1. 1. 1. 0. 0. 0. 0. 0. 0. 0. 0. 0. 1. 0. 0. 0. 0. 0. 1. 1. 1. 0. 1.\n",
            " 1. 0. 0. 1. 0. 0. 1. 0. 0. 1. 1. 0. 0. 0. 0. 1. 0. 0. 1. 0. 0. 0. 0. 0.\n",
            " 0. 0. 1. 1. 1. 0. 0. 1. 0. 0. 1. 0. 0. 1. 0. 1. 1. 0. 1. 0. 1. 0. 1. 0.\n",
            " 1. 1. 0. 0. 0. 0. 1. 1. 0. 1. 0. 1. 0. 0. 0. 0. 1. 1. 0. 1. 0. 1. 0. 0.\n",
            " 0. 0. 0. 1. 0. 0. 0. 0. 1. 0. 0. 1. 1. 1. 0. 0. 1. 0. 0. 1. 0. 0. 0. 1.\n",
            " 0. 0. 1. 0. 0. 0. 0. 0. 0. 0. 0. 0. 1. 0. 0. 0. 0. 0. 0. 0. 1. 0. 0. 0.\n",
            " 1. 0. 0. 0. 1. 1. 0. 0. 0. 0. 0. 0. 0. 1. 0. 0. 0. 0. 1. 0. 0. 0. 1. 0.\n",
            " 0. 0. 1. 0. 0. 0. 1. 0. 0. 0. 0. 1. 1. 0. 0. 0. 0. 0. 0. 1. 0. 0. 0. 0.\n",
            " 0. 0. 0. 0. 0. 0. 0. 1. 0. 0. 0. 1. 1. 1. 1. 0. 0. 1. 1. 0. 0. 0. 0. 0.\n",
            " 0. 0. 0. 0. 0. 0. 0. 0. 1. 1. 0. 0. 0. 0. 0. 0. 0. 1. 0. 0. 0. 0. 0. 0.\n",
            " 0. 1. 0. 1. 1. 0. 0. 0. 1. 0. 1. 0. 1. 0. 1. 0. 1. 0. 0. 1. 0. 0. 1. 0.\n",
            " 0. 0. 0. 1. 1. 0. 1. 0. 0. 0. 0. 1. 1. 0. 1. 0. 0. 0. 1. 1. 0. 0. 0. 0.\n",
            " 0. 0. 0. 0. 0. 0. 1. 0. 0. 0. 0. 1. 0. 0. 1. 0. 0. 0. 1. 0. 0. 0. 1. 1.\n",
            " 1. 0. 0. 0. 0. 0. 0. 1. 0. 0. 0. 1. 0. 1. 1. 1. 1. 0. 1. 1. 0. 0. 0. 0.\n",
            " 0. 0. 0. 1. 1. 0. 1. 0. 0. 1. 0. 1. 0. 0. 0. 0. 0. 1. 0. 1. 0. 1. 0. 1.\n",
            " 1. 0. 0. 0. 0. 1. 1. 0. 0. 0. 1. 0. 1. 1. 0. 0. 1. 0. 0. 1. 1. 0. 0. 1.\n",
            " 0. 0. 1. 0. 0. 0. 0. 0. 0. 0. 1. 1. 1. 0. 0. 0. 0. 0. 0. 1. 1. 0. 0. 1.\n",
            " 0. 0. 1. 0. 1. 1. 1. 0. 0. 1. 1. 1. 0. 1. 0. 1. 0. 1. 0. 0. 0. 0. 1. 0.]\n"
          ]
        }
      ],
      "source": [
        "import pandas as pd\n",
        "# Carregando dados do arquivo CSV\n",
        "url = 'https://raw.githubusercontent.com/IGOR1630/AtividadeIA/main/diabetes.csv'\n",
        "base_Treinamento = pd.read_csv(url, encoding = 'latin1').values\n",
        "print(\"---------------------------------\")\n",
        "print(\"Dados dos Pacientes - TREINAMENTO\")\n",
        "print(\"---------------------------------\")\n",
        "print(base_Treinamento)\n",
        "print(\"---------------------------------\")\n",
        "\n",
        "# Extração dos Atributos a serem utilizadas pela rede\n",
        "print(\"Atributos de Entrada\")\n",
        "print(\"---------------------------------\")\n",
        "print(base_Treinamento[:, :8])\n",
        "\n",
        "print(\"----------------------------\")\n",
        "print(\"Classificação Supervisionada\")\n",
        "print(\"----------------------------\")\n",
        "print(base_Treinamento[:, -1])"
      ]
    },
    {
      "cell_type": "markdown",
      "metadata": {
        "id": "ZPpDXy7cgKyp"
      },
      "source": [
        "### Pré-processamento de Dados"
      ]
    },
    {
      "cell_type": "code",
      "execution_count": 82,
      "metadata": {
        "colab": {
          "base_uri": "https://localhost:8080/"
        },
        "id": "L4nvyQJegKyq",
        "outputId": "30910475-47e4-4c65-e74f-3ccf6a4375da"
      },
      "outputs": [
        {
          "output_type": "stream",
          "name": "stdout",
          "text": [
            "--------------------------------\n",
            "Atributos de Entrada - Numéricos\n",
            "--------------------------------\n",
            "[[0.35294118 0.74371859 0.59016393 ... 0.50074516 0.23441503 0.48333333]\n",
            " [0.05882353 0.42713568 0.54098361 ... 0.39642325 0.11656704 0.16666667]\n",
            " [0.47058824 0.91959799 0.52459016 ... 0.34724292 0.25362938 0.18333333]\n",
            " ...\n",
            " [0.29411765 0.6080402  0.59016393 ... 0.390462   0.07130658 0.15      ]\n",
            " [0.05882353 0.63316583 0.49180328 ... 0.4485842  0.11571307 0.43333333]\n",
            " [0.05882353 0.46733668 0.57377049 ... 0.45305514 0.10119556 0.03333333]]\n",
            "----------------------------------------\n",
            "Classificação Supervisionada - Numéricos\n",
            "----------------------------------------\n",
            "[1. 0. 1. 0. 1. 0. 1. 0. 1. 1. 0. 1. 0. 1. 1. 1. 1. 1. 0. 1. 0. 0. 1. 1.\n",
            " 1. 1. 1. 0. 0. 0. 0. 1. 0. 0. 0. 0. 0. 1. 1. 1. 0. 0. 0. 1. 0. 1. 0. 0.\n",
            " 1. 0. 0. 0. 0. 1. 0. 0. 1. 0. 0. 0. 0. 1. 0. 0. 1. 0. 1. 0. 0. 0. 1. 0.\n",
            " 1. 0. 0. 0. 0. 0. 1. 0. 0. 0. 0. 0. 1. 0. 0. 0. 1. 0. 0. 0. 0. 1. 0. 0.\n",
            " 0. 0. 0. 1. 1. 0. 0. 0. 0. 0. 0. 0. 0. 1. 1. 1. 0. 0. 1. 1. 1. 0. 0. 0.\n",
            " 1. 0. 0. 0. 1. 1. 0. 0. 1. 1. 1. 1. 1. 0. 0. 0. 0. 0. 0. 0. 0. 0. 0. 1.\n",
            " 0. 0. 0. 0. 0. 0. 0. 0. 1. 0. 1. 1. 0. 0. 0. 1. 0. 0. 0. 0. 1. 1. 0. 0.\n",
            " 0. 0. 1. 1. 0. 0. 0. 1. 0. 1. 0. 1. 0. 0. 0. 0. 0. 1. 1. 1. 1. 1. 0. 0.\n",
            " 1. 1. 0. 1. 0. 1. 1. 1. 0. 0. 0. 0. 0. 0. 1. 1. 0. 1. 0. 0. 0. 1. 1. 1.\n",
            " 1. 0. 1. 1. 1. 1. 0. 0. 0. 0. 0. 1. 0. 0. 1. 1. 0. 0. 0. 1. 1. 1. 1. 0.\n",
            " 0. 0. 1. 1. 0. 1. 0. 0. 0. 0. 0. 0. 0. 0. 1. 1. 0. 0. 0. 1. 0. 1. 0. 0.\n",
            " 1. 0. 1. 0. 0. 1. 1. 0. 0. 0. 0. 0. 1. 0. 0. 0. 1. 0. 0. 1. 1. 0. 0. 1.\n",
            " 0. 0. 0. 1. 1. 1. 0. 0. 1. 0. 1. 0. 1. 1. 0. 1. 0. 0. 1. 0. 1. 1. 0. 0.\n",
            " 1. 0. 1. 0. 0. 1. 0. 1. 0. 1. 1. 1. 0. 0. 1. 0. 1. 0. 0. 0. 1. 0. 0. 0.\n",
            " 0. 1. 1. 1. 0. 0. 0. 0. 0. 0. 0. 0. 0. 1. 0. 0. 0. 0. 0. 1. 1. 1. 0. 1.\n",
            " 1. 0. 0. 1. 0. 0. 1. 0. 0. 1. 1. 0. 0. 0. 0. 1. 0. 0. 1. 0. 0. 0. 0. 0.\n",
            " 0. 0. 1. 1. 1. 0. 0. 1. 0. 0. 1. 0. 0. 1. 0. 1. 1. 0. 1. 0. 1. 0. 1. 0.\n",
            " 1. 1. 0. 0. 0. 0. 1. 1. 0. 1. 0. 1. 0. 0. 0. 0. 1. 1. 0. 1. 0. 1. 0. 0.\n",
            " 0. 0. 0. 1. 0. 0. 0. 0. 1. 0. 0. 1. 1. 1. 0. 0. 1. 0. 0. 1. 0. 0. 0. 1.\n",
            " 0. 0. 1. 0. 0. 0. 0. 0. 0. 0. 0. 0. 1. 0. 0. 0. 0. 0. 0. 0. 1. 0. 0. 0.\n",
            " 1. 0. 0. 0. 1. 1. 0. 0. 0. 0. 0. 0. 0. 1. 0. 0. 0. 0. 1. 0. 0. 0. 1. 0.\n",
            " 0. 0. 1. 0. 0. 0. 1. 0. 0. 0. 0. 1. 1. 0. 0. 0. 0. 0. 0. 1. 0. 0. 0. 0.\n",
            " 0. 0. 0. 0. 0. 0. 0. 1. 0. 0. 0. 1. 1. 1. 1. 0. 0. 1. 1. 0. 0. 0. 0. 0.\n",
            " 0. 0. 0. 0. 0. 0. 0. 0. 1. 1. 0. 0. 0. 0. 0. 0. 0. 1. 0. 0. 0. 0. 0. 0.\n",
            " 0. 1. 0. 1. 1. 0. 0. 0. 1. 0. 1. 0. 1. 0. 1. 0. 1. 0. 0. 1. 0. 0. 1. 0.\n",
            " 0. 0. 0. 1. 1. 0. 1. 0. 0. 0. 0. 1. 1. 0. 1. 0. 0. 0. 1. 1. 0. 0. 0. 0.\n",
            " 0. 0. 0. 0. 0. 0. 1. 0. 0. 0. 0. 1. 0. 0. 1. 0. 0. 0. 1. 0. 0. 0. 1. 1.\n",
            " 1. 0. 0. 0. 0. 0. 0. 1. 0. 0. 0. 1. 0. 1. 1. 1. 1. 0. 1. 1. 0. 0. 0. 0.\n",
            " 0. 0. 0. 1. 1. 0. 1. 0. 0. 1. 0. 1. 0. 0. 0. 0. 0. 1. 0. 1. 0. 1. 0. 1.\n",
            " 1. 0. 0. 0. 0. 1. 1. 0. 0. 0. 1. 0. 1. 1. 0. 0. 1. 0. 0. 1. 1. 0. 0. 1.\n",
            " 0. 0. 1. 0. 0. 0. 0. 0. 0. 0. 1. 1. 1. 0. 0. 0. 0. 0. 0. 1. 1. 0. 0. 1.\n",
            " 0. 0. 1. 0. 1. 1. 1. 0. 0. 1. 1. 1. 0. 1. 0. 1. 0. 1. 0. 0. 0. 0. 1. 0.]\n"
          ]
        }
      ],
      "source": [
        "import numpy as np\n",
        "\n",
        "campos = {\n",
        "    1: base_Treinamento[:, 0],  # Gravidez\n",
        "    2: base_Treinamento[:, 1],  # Glicose\n",
        "    3: base_Treinamento[:, 2],  # PressãoArterial\n",
        "    4: base_Treinamento[:, 3],  # EspessuraPele\n",
        "    5: base_Treinamento[:, 4],  # Insulina\n",
        "    6: base_Treinamento[:, 5],  # IMC\n",
        "    7: base_Treinamento[:, 6],  # DiabetesPedigreeFunction\n",
        "    8: base_Treinamento[:, 7],  # Idade\n",
        "    9: base_Treinamento[:, 8],  # Resultado\n",
        "}\n",
        "\n",
        "for chave in range(1, 9):\n",
        "    campos[chave] = (campos[chave] - min(campos[chave])) / (max(campos[chave]) - min(campos[chave]))\n",
        "\n",
        "atributos_norm = np.column_stack([campos[chave] for chave in range(1, 9)])\n",
        "print(\"--------------------------------\")\n",
        "print(\"Atributos de Entrada - Numéricos\")\n",
        "print(\"--------------------------------\")\n",
        "print(atributos_norm)\n",
        "diagnostico_norm = campos[9]\n",
        "print(\"----------------------------------------\")\n",
        "print(\"Classificação Supervisionada - Numéricos\")\n",
        "print(\"----------------------------------------\")\n",
        "print(diagnostico_norm)"
      ]
    },
    {
      "cell_type": "markdown",
      "metadata": {
        "id": "GC4FUfD5gKyr"
      },
      "source": [
        "### Treinamento do KNN (K-Nearest Neighbor)"
      ]
    },
    {
      "cell_type": "code",
      "execution_count": 83,
      "metadata": {
        "colab": {
          "base_uri": "https://localhost:8080/"
        },
        "id": "kDmPLB5FgKys",
        "outputId": "5149ed99-f08e-4251-f3e8-7da5e9107ac1"
      },
      "outputs": [
        {
          "output_type": "stream",
          "name": "stdout",
          "text": [
            "Acurácia: 0.784\n"
          ]
        }
      ],
      "source": [
        "from sklearn.neighbors import KNeighborsClassifier\n",
        "# Treinamento do Knn a partir dos atributos de entrada e classificações com K=3\n",
        "modelo = KNeighborsClassifier(n_neighbors=11)\n",
        "modelo.fit(atributos_norm, diagnostico_norm)\n",
        "\n",
        "# Acurácia do modelo, que é : 1 - (predições erradas / total de predições)\n",
        "# Acurácia do modelo: indica uma performance geral do modelo.\n",
        "# Dentre todas as classificações, quantas o modelo classificou corretamente;\n",
        "# (VP+VN)/N\n",
        "print('Acurácia: %.3f' % modelo.score(atributos_norm, diagnostico_norm))"
      ]
    },
    {
      "cell_type": "markdown",
      "metadata": {
        "id": "HMwrAoNwgKyt"
      },
      "source": [
        "### ----------------------------------------------------------------------------"
      ]
    },
    {
      "cell_type": "markdown",
      "metadata": {
        "id": "6UKPw4jagKyu"
      },
      "source": [
        "# Validação do Aprendizado"
      ]
    },
    {
      "cell_type": "markdown",
      "metadata": {
        "id": "0tUmMoPHgKyv"
      },
      "source": [
        "### Predição Simples"
      ]
    },
    {
      "cell_type": "code",
      "execution_count": 84,
      "metadata": {
        "colab": {
          "base_uri": "https://localhost:8080/"
        },
        "id": "W4MRpx9PgKyw",
        "outputId": "89f2e8b2-4e81-4436-af7c-e4f2ed9fd974"
      },
      "outputs": [
        {
          "output_type": "stream",
          "name": "stdout",
          "text": [
            "\n",
            "Pessoa Teste: \n",
            "Filhos: 4.0 \n",
            "Glicose: 127.0 \n",
            "PressãoArterial: 76.0 \n",
            "EspessuraPele: 33.0 \n",
            "Insulina: 0.0 \n",
            "IMC: 22.5 \n",
            "DiabetesPedigreeFunction: 0.727 \n",
            "Idade: 22.0\n",
            "\n",
            "\n",
            "Resultado 'Pessoa Teste':  1.0\n"
          ]
        }
      ],
      "source": [
        "# for i in range(10, 21):\n",
        "#  print(f\"Test {i}: \", modelo.predict([atributos_norm[i]]))\n",
        "from random import randint\n",
        "filhos = randint(0, len(atributos_norm) - 1)\n",
        "Glicose = randint(0, len(atributos_norm) - 1)\n",
        "PressaoArterial = randint(0, len(atributos_norm) - 1)\n",
        "EspessuraPele = randint(0, len(atributos_norm) - 1)\n",
        "Insulina = randint(0, len(atributos_norm) - 1)\n",
        "IMC = randint(0, len(atributos_norm) - 1)\n",
        "DiabetesPedigreeFunction = randint(0, len(atributos_norm) - 1)\n",
        "Idade = randint(0, len(atributos_norm) - 1)\n",
        "print(\"\\nPessoa Teste:\",\n",
        "      \"\\nFilhos:\", base_Treinamento[:filhos - 1, :1][-1][0],\n",
        "      \"\\nGlicose:\", base_Treinamento[:Glicose - 1, :2][-1][1],\n",
        "      \"\\nPressãoArterial:\", base_Treinamento[:PressaoArterial - 1, :3][-1][2],\n",
        "      \"\\nEspessuraPele:\", base_Treinamento[:EspessuraPele - 1, :4][-1][3],\n",
        "      \"\\nInsulina:\", base_Treinamento[:Insulina - 1, :5][-1][4],\n",
        "      \"\\nIMC:\", base_Treinamento[:IMC - 1, :6][-1][5],\n",
        "      \"\\nDiabetesPedigreeFunction:\", base_Treinamento[:DiabetesPedigreeFunction - 1, :7][-1][6],\n",
        "      \"\\nIdade:\", base_Treinamento[:Idade - 1, :8][-1][7],\n",
        "      )\n",
        "pessoaTeste = [[atributos_norm[filhos][0]] + [atributos_norm[Glicose][1]] + [atributos_norm[PressaoArterial][2]] + [atributos_norm[EspessuraPele][3]] + [atributos_norm[Insulina][4]] + [atributos_norm[IMC][5]] + [atributos_norm[DiabetesPedigreeFunction][6]] + [atributos_norm[Idade][7]]]\n",
        "print(\"\\n\\nResultado 'Pessoa Teste': \", modelo.predict(pessoaTeste)[0])\n"
      ]
    },
    {
      "cell_type": "markdown",
      "metadata": {
        "id": "VweXD-8_gKyx"
      },
      "source": [
        "### Predição a partir de base de dados (.csv)"
      ]
    },
    {
      "cell_type": "code",
      "execution_count": 85,
      "metadata": {
        "colab": {
          "base_uri": "https://localhost:8080/"
        },
        "id": "ceg0-DfVgKyx",
        "outputId": "12fbcb26-50ce-41bb-cf59-7955d8c38fdf"
      },
      "outputs": [
        {
          "output_type": "stream",
          "name": "stdout",
          "text": [
            "----------------------------\n",
            "Dados dos Pacientes - TESTES\n",
            "----------------------------\n",
            "[[3.00e+00 1.20e+02 7.00e+01 3.00e+01 0.00e+00 2.75e+01 3.51e-01 2.50e+01\n",
            "  0.00e+00]\n",
            " [2.00e+00 1.35e+02 8.00e+01 2.50e+01 0.00e+00 3.20e+01 2.00e-01 2.20e+01\n",
            "  1.00e+00]\n",
            " [5.00e+00 1.40e+02 8.50e+01 4.00e+01 0.00e+00 3.45e+01 4.10e-01 2.90e+01\n",
            "  1.00e+00]\n",
            " [1.00e+00 9.50e+01 7.00e+01 2.00e+01 8.00e+01 2.65e+01 2.45e-01 2.30e+01\n",
            "  0.00e+00]\n",
            " [4.00e+00 1.10e+02 7.50e+01 3.50e+01 0.00e+00 2.92e+01 3.10e-01 3.10e+01\n",
            "  1.00e+00]\n",
            " [0.00e+00 1.30e+02 6.80e+01 2.80e+01 0.00e+00 2.40e+01 1.98e-01 3.00e+01\n",
            "  0.00e+00]\n",
            " [2.00e+00 1.45e+02 9.00e+01 2.00e+01 9.00e+01 3.10e+01 2.50e-01 2.70e+01\n",
            "  1.00e+00]\n",
            " [6.00e+00 1.50e+02 8.80e+01 3.60e+01 1.20e+02 3.65e+01 5.00e-01 3.50e+01\n",
            "  1.00e+00]\n",
            " [1.00e+00 8.80e+01 6.00e+01 2.20e+01 0.00e+00 2.25e+01 1.25e-01 2.60e+01\n",
            "  0.00e+00]\n",
            " [3.00e+00 1.60e+02 7.70e+01 3.80e+01 0.00e+00 3.50e+01 6.00e-01 4.00e+01\n",
            "  1.00e+00]]\n",
            "---------------------------------\n",
            "Atributos de Entrada\n",
            "---------------------------------\n",
            "[[1.20e+02 7.00e+01 3.00e+01 0.00e+00 2.75e+01 3.51e-01 2.50e+01]\n",
            " [1.35e+02 8.00e+01 2.50e+01 0.00e+00 3.20e+01 2.00e-01 2.20e+01]\n",
            " [1.40e+02 8.50e+01 4.00e+01 0.00e+00 3.45e+01 4.10e-01 2.90e+01]\n",
            " [9.50e+01 7.00e+01 2.00e+01 8.00e+01 2.65e+01 2.45e-01 2.30e+01]\n",
            " [1.10e+02 7.50e+01 3.50e+01 0.00e+00 2.92e+01 3.10e-01 3.10e+01]\n",
            " [1.30e+02 6.80e+01 2.80e+01 0.00e+00 2.40e+01 1.98e-01 3.00e+01]\n",
            " [1.45e+02 9.00e+01 2.00e+01 9.00e+01 3.10e+01 2.50e-01 2.70e+01]\n",
            " [1.50e+02 8.80e+01 3.60e+01 1.20e+02 3.65e+01 5.00e-01 3.50e+01]\n",
            " [8.80e+01 6.00e+01 2.20e+01 0.00e+00 2.25e+01 1.25e-01 2.60e+01]\n",
            " [1.60e+02 7.70e+01 3.80e+01 0.00e+00 3.50e+01 6.00e-01 4.00e+01]]\n"
          ]
        }
      ],
      "source": [
        "import pandas as pd\n",
        "# Carregando dados do arquivo CSV\n",
        "url = 'https://raw.githubusercontent.com/IGOR1630/AtividadeIA/main/base_treinamento.csv'\n",
        "base_Testes = pd.read_csv(url, encoding = 'latin1').values\n",
        "print(\"----------------------------\")\n",
        "print(\"Dados dos Pacientes - TESTES\")\n",
        "print(\"----------------------------\")\n",
        "print(base_Testes)\n",
        "print(\"---------------------------------\")\n",
        "\n",
        "# Extração dos Atributos a serem utilizadas pela rede\n",
        "print(\"Atributos de Entrada\")\n",
        "print(\"---------------------------------\")\n",
        "print(base_Testes[:, 1:8])"
      ]
    },
    {
      "cell_type": "markdown",
      "metadata": {
        "id": "g6JQnLaEgKyx"
      },
      "source": [
        "### Pré-processamento de Dados"
      ]
    },
    {
      "cell_type": "code",
      "execution_count": 86,
      "metadata": {
        "colab": {
          "base_uri": "https://localhost:8080/"
        },
        "id": "SJM8C3IDgKyy",
        "outputId": "3923ceb8-f045-4048-d28c-8f3045693fed"
      },
      "outputs": [
        {
          "output_type": "stream",
          "name": "stdout",
          "text": [
            "--------------------------------\n",
            "Atributos de Entrada - Numéricos\n",
            "--------------------------------\n",
            "[[0.5        0.44444444 0.33333333 0.5        0.         0.35714286\n",
            "  0.47578947 0.16666667]\n",
            " [0.33333333 0.65277778 0.66666667 0.25       0.         0.67857143\n",
            "  0.15789474 0.        ]\n",
            " [0.83333333 0.72222222 0.83333333 1.         0.         0.85714286\n",
            "  0.6        0.38888889]\n",
            " [0.16666667 0.09722222 0.33333333 0.         0.66666667 0.28571429\n",
            "  0.25263158 0.05555556]\n",
            " [0.66666667 0.30555556 0.5        0.75       0.         0.47857143\n",
            "  0.38947368 0.5       ]\n",
            " [0.         0.58333333 0.26666667 0.4        0.         0.10714286\n",
            "  0.15368421 0.44444444]\n",
            " [0.33333333 0.79166667 1.         0.         0.75       0.60714286\n",
            "  0.26315789 0.27777778]\n",
            " [1.         0.86111111 0.93333333 0.8        1.         1.\n",
            "  0.78947368 0.72222222]\n",
            " [0.16666667 0.         0.         0.1        0.         0.\n",
            "  0.         0.22222222]\n",
            " [0.5        1.         0.56666667 0.9        0.         0.89285714\n",
            "  1.         1.        ]]\n",
            "----------------------------------------\n",
            "Classificação Supervisionada - Numéricos\n",
            "----------------------------------------\n",
            "[0. 1. 1. 0. 1. 0. 1. 1. 0. 1.]\n"
          ]
        }
      ],
      "source": [
        "import numpy as np\n",
        "\n",
        "campos = {\n",
        "    1: base_Testes[:, 0],  # Gravidez\n",
        "    2: base_Testes[:, 1],  # Glicose\n",
        "    3: base_Testes[:, 2],  # PressãoArterial\n",
        "    4: base_Testes[:, 3],  # EspessuraPele\n",
        "    5: base_Testes[:, 4],  # Insulina\n",
        "    6: base_Testes[:, 5],  # IMC\n",
        "    7: base_Testes[:, 6],  # DiabetesPedigreeFunction\n",
        "    8: base_Testes[:, 7],  # Idade\n",
        "    9: base_Testes[:, 8],  # Resultado\n",
        "}\n",
        "\n",
        "for chave in range(1, 9):\n",
        "    campos[chave] = (campos[chave] - min(campos[chave])) / (max(campos[chave]) - min(campos[chave]))\n",
        "\n",
        "atributos_norm_base_teste = np.column_stack([campos[chave] for chave in range(1, 9)])\n",
        "print(\"--------------------------------\")\n",
        "print(\"Atributos de Entrada - Numéricos\")\n",
        "print(\"--------------------------------\")\n",
        "print(atributos_norm_base_teste)\n",
        "diagnostico_norm_base_teste = campos[9]\n",
        "print(\"----------------------------------------\")\n",
        "print(\"Classificação Supervisionada - Numéricos\")\n",
        "print(\"----------------------------------------\")\n",
        "print(diagnostico_norm_base_teste)"
      ]
    },
    {
      "cell_type": "markdown",
      "metadata": {
        "id": "3QO3B6S3gKyy"
      },
      "source": [
        "### Predição da Base"
      ]
    },
    {
      "cell_type": "code",
      "execution_count": 87,
      "metadata": {
        "colab": {
          "base_uri": "https://localhost:8080/"
        },
        "id": "3ZovGGdmgKyz",
        "outputId": "b2562afb-b2a7-4b55-bc55-ac947f648c3a"
      },
      "outputs": [
        {
          "output_type": "stream",
          "name": "stdout",
          "text": [
            "Classificações:  [0. 0. 1. 0. 1. 0. 1. 1. 0. 1.]\n"
          ]
        }
      ],
      "source": [
        "base_Predicao = modelo.predict((atributos_norm_base_teste))\n",
        "print(\"Classificações: \", base_Predicao)"
      ]
    },
    {
      "cell_type": "markdown",
      "metadata": {
        "id": "Y7ZxJwGAgKyz"
      },
      "source": [
        "### Imprimindo a predição"
      ]
    },
    {
      "cell_type": "code",
      "execution_count": 88,
      "metadata": {
        "colab": {
          "base_uri": "https://localhost:8080/"
        },
        "id": "EE96lEuPgKy0",
        "outputId": "a87d6a88-e48d-442e-8a4b-b757df5cb5ca"
      },
      "outputs": [
        {
          "output_type": "stream",
          "name": "stdout",
          "text": [
            "Instância 1 não possui diabetes.\n",
            "Instância 2 não possui diabetes.\n",
            "Instância 3 possui diabetes.\n",
            "Instância 4 não possui diabetes.\n",
            "Instância 5 possui diabetes.\n",
            "Instância 6 não possui diabetes.\n",
            "Instância 7 possui diabetes.\n",
            "Instância 8 possui diabetes.\n",
            "Instância 9 não possui diabetes.\n",
            "Instância 10 possui diabetes.\n"
          ]
        }
      ],
      "source": [
        "for i, d in enumerate(base_Predicao):\n",
        "  print(f'Instância {i + 1}', 'possui diabetes.' if d == 1.0 else 'não possui diabetes.')"
      ]
    }
  ],
  "metadata": {
    "colab": {
      "provenance": [],
      "include_colab_link": true
    },
    "kernelspec": {
      "display_name": "Python 3",
      "language": "python",
      "name": "python3"
    },
    "language_info": {
      "codemirror_mode": {
        "name": "ipython",
        "version": 3
      },
      "file_extension": ".py",
      "mimetype": "text/x-python",
      "name": "python",
      "nbconvert_exporter": "python",
      "pygments_lexer": "ipython3",
      "version": "3.6.5"
    }
  },
  "nbformat": 4,
  "nbformat_minor": 0
}